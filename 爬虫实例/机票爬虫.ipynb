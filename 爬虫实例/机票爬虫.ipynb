{
 "cells": [
  {
   "cell_type": "code",
   "execution_count": 21,
   "metadata": {},
   "outputs": [],
   "source": [
    "import requests\n",
    "import re\n",
    "import json\n",
    "from requests.exceptions import RequestException\n",
    "from multiprocessing import Pool\n",
    "import datetime\n",
    "import pandas as pd"
   ]
  },
  {
   "cell_type": "code",
   "execution_count": 22,
   "metadata": {},
   "outputs": [
    {
     "name": "stderr",
     "output_type": "stream",
     "text": [
      "D:\\anaconda\\lib\\site-packages\\ipykernel_launcher.py:11: DeprecationWarning: invalid escape sequence '\\/'\n",
      "  # This is added back by InteractiveShellApp.init_path()\n"
     ]
    }
   ],
   "source": [
    "begin = datetime.date(2020,6,1)\n",
    "end = datetime.date(2020,6,30)\n",
    "\n",
    "listdata = [] \n",
    "for i in range((end - begin).days+1):\n",
    "    day = begin + datetime.timedelta(days=i)\n",
    "    url = 'https://www.lsjpjg.com/getthis.php'\n",
    "    data = {'dep_dt': str(day), 'dep_ct': '广州','arr_ct': '北京'}\n",
    "    headers={'User-Agent': 'Mozilla/5.0 (Windows NT 10.0; Win64; x64; rv:77.0) Gecko/20100101 Firefox/77.0'}\n",
    "    response = requests.post(url,data=data,headers=headers)\n",
    "    da = response.text.encode('utf-8').decode('unicode_escape')\n",
    "    da = da[3:]\n",
    "    dat = json.loads(da)\n",
    "    listdata.extend(dat)\n",
    "\n",
    "data = pd.DataFrame(listdata)\n",
    "data.to_excel(\"data.xls\")\n"
   ]
  },
  {
   "cell_type": "code",
   "execution_count": null,
   "metadata": {},
   "outputs": [],
   "source": []
  }
 ],
 "metadata": {
  "kernelspec": {
   "display_name": "Python 3",
   "language": "python",
   "name": "python3"
  }
 },
 "nbformat": 4,
 "nbformat_minor": 2
}
